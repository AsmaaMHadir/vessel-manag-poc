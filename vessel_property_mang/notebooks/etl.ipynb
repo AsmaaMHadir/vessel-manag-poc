{
 "cells": [
  {
   "cell_type": "code",
   "execution_count": 3,
   "metadata": {},
   "outputs": [],
   "source": [
    "import os \n",
    "from dotenv import load_dotenv \n",
    "load_dotenv()\n",
    "\n",
    "from langchain_pinecone import PineconeVectorStore\n",
    "from langchain_experimental.text_splitter import SemanticChunker\n",
    "from langchain_community.document_loaders import S3FileLoader\n",
    "from langchain_core.documents import Document\n",
    "\n",
    "from pinecone import Pinecone\n",
    "from langchain_pinecone import PineconeVectorStore\n",
    "\n",
    "def get_pinecone_vector_store(embeddings_model,namespace=\"default\",index_name: str = os.getenv(\"PINECONE_INDEX_NAME\")) -> PineconeVectorStore:\n",
    "    try:\n",
    "        # Initialize Pinecone client\n",
    "        pinecone_api_key = os.getenv(\"PINECONE_API_KEY\")\n",
    "        if not pinecone_api_key:\n",
    "            raise ValueError(\"Pinecone API key is not set. Please set it in the environment variables.\")\n",
    "        \n",
    "        pc = Pinecone(api_key=pinecone_api_key)\n",
    "\n",
    "        # Check if the index exists\n",
    "        existing_indexes = [index_info[\"name\"] for index_info in pc.list_indexes()]\n",
    "        if index_name in existing_indexes:\n",
    "            print(f\"Index '{index_name}' already exists. Retrieving it...\")\n",
    "            index = pc.Index(index_name)\n",
    "        else:\n",
    "            print(f\"Index '{index_name}' does not exist. Please create one\")\n",
    "\n",
    "\n",
    "        # Initialize and return the vector store\n",
    "        vector_store = PineconeVectorStore(index=index, embedding=embeddings_model,namespace=namespace)\n",
    "        return vector_store\n",
    "\n",
    "    except Exception as e:\n",
    "        print(f\"An error occurred: {e}\")\n",
    "        return None"
   ]
  },
  {
   "cell_type": "code",
   "execution_count": 5,
   "metadata": {},
   "outputs": [],
   "source": [
    "import logging \n",
    "\n",
    "def chunk_docs(documents, embed_model) :\n",
    "    \"\"\"\n",
    "    Chunks the provided documents into smaller text segments using a semantic chunking model.\n",
    "\n",
    "    Args:\n",
    "        documents (List[Document]): A list of documents to be chunked. Each document is expected to have a `page_content` attribute.\n",
    "        embed_model: The embedding model to be used by the semantic chunker.\n",
    "\n",
    "    Returns:\n",
    "        List[Document]: A list of chunks created from the input documents.\n",
    "\n",
    "    Raises:\n",
    "        Exception: If chunking fails.\n",
    "    \"\"\"\n",
    "    \n",
    "    try:\n",
    "        logging.info(\"Initializing SemanticChunker...\")\n",
    "        text_splitter = SemanticChunker(embeddings=embed_model)\n",
    "        logging.info(\"Performing document chunking...\")\n",
    "        chunks = text_splitter.transform_documents(documents=documents)\n",
    "        logging.info(f\"Created {len(chunks)} chunks from the documents.\")\n",
    "        return chunks\n",
    "    except Exception as e:\n",
    "        logging.error(f\"Failed to chunk documents: {str(e)}\")\n",
    "        raise"
   ]
  },
  {
   "cell_type": "code",
   "execution_count": 6,
   "metadata": {},
   "outputs": [],
   "source": [
    "def load_to_vectordb(\n",
    "    docs,\n",
    "    index_name: str,\n",
    "    embeddings,\n",
    "    namespace: str = \"default\" \n",
    ") :\n",
    "    \"\"\"\n",
    "    Loads the given documents into a vector database, using the specified embeddings and namespace.\n",
    "\n",
    "    Args:\n",
    "        docs (List[Document]): A list of document chunks to be loaded into the vector database.\n",
    "        index_name (str): The name of the index in the vector database.\n",
    "        dimension (int): The dimensionality of the vectors. Defaults to 1024.\n",
    "        metric (str): The similarity metric to use. Defaults to \"cosine\".\n",
    "        namespace (str): The namespace under which the documents are to be stored in the vector database.\n",
    "\n",
    "    Returns:\n",
    "        Tuple[Union[PineconeVectorStore, None], bool]: \n",
    "            - If successful: (vector_store_object, True)\n",
    "            - If failed: (None, False)\n",
    "\n",
    "    Raises:\n",
    "        Exception: If loading to the vector database fails.\n",
    "    \"\"\"\n",
    "    \n",
    "    try:\n",
    "        # Retrieve or create the Pinecone vector store\n",
    "        vector_store = get_pinecone_vector_store(embeddings,namespace=namespace, index_name=index_name)\n",
    "        \n",
    "        if vector_store is None:\n",
    "            logging.error(\"Failed to create or retrieve the Pinecone vector store.\")\n",
    "            return None, False\n",
    "\n",
    "        logging.info(f\"Loading {len(docs)} documents into Pinecone vector store '{index_name}' under namespace '{namespace}'...\")\n",
    "        \n",
    "        # TODO: add cache \n",
    "        vector_store.add_documents(documents=docs)\n",
    "\n",
    "        logging.info(\"Documents successfully loaded into the vector database.\")\n",
    "        return vector_store, True\n",
    "\n",
    "    except Exception as e:\n",
    "        logging.error(f\"Failed to load documents into vector database: {str(e)}\")\n",
    "        return None, False"
   ]
  },
  {
   "cell_type": "code",
   "execution_count": null,
   "metadata": {},
   "outputs": [],
   "source": [
    "import nest_asyncio\n",
    "\n",
    "nest_asyncio.apply()\n",
    "from langchain_community.document_loaders.mongodb import MongodbLoader\n",
    "\n",
    "def load_document():\n",
    "\n",
    "    loader = MongodbLoader(\n",
    "        connection_string=os.getenv(\"MONGODB_CONNECTION_STRING\"),\n",
    "        db_name=\"streamlit-documents\",\n",
    "        collection_name=\"user-documents\",\n",
    "    )\n",
    "\n",
    "    docs = loader.load()\n",
    "    return docs"
   ]
  },
  {
   "cell_type": "code",
   "execution_count": 7,
   "metadata": {},
   "outputs": [
    {
     "data": {
      "text/plain": [
       "[Document(metadata={'source': '/home/asmaa/work/BV_Lab/POCs/vessel_property_mang/assets/VPM Problems_Solutions, FAQ, AI Training Tool.docx'}, page_content=\"Below is a list of problems that our property management company occasionally encounters. \\n\\n\\n\\nA unit owner reached out about lights that are either out, not working properly, or need replacing. What do we do?\\n\\nIf the light in question is in the common area of the building, reach out to Larry our Handyman to come and fix the issue. Larry can be reached at (201) 496-9438. If the problem is within an owners unit, than refer them to Larry. We only solve problems in common areas, not within an owners unit.\\n\\n\\n\\nA unit owner reached out asking if we will need access to their unit during a fire inspection. Do they?\\n\\nNo. During Cintas inspections (fire alarm, smoke detector, sprinkler) we do not need access to units.\\n\\n\\n\\nA unit owner reached out asking if we will need access to their unit during a DCA. Do they?\\n\\nYES. During DCA inspections the inspector will need access to each unit. Is the unit owners responsibility to be there to let them in and make repairs for any discovered deficiencies. \\n\\n\\n\\nRichards Associates does not work with a buildings current insurer. In order to move to a new insurer, they require certain information. Where do I find this information?\\n\\nMost of the information will be available on a Zillow listing for one of the units (Date Built, square footage, etc.), the Master Deed and Bylaws (Date the Association was created), or Buildium (Annual Income). You may need to improvise a bit and give your best estimate. For things like roofs I assume they’re 15 years old unless I have information otherwise. Assume buildings have sprinklers and monitored fire alarms, most buildings have Torch Down Roofs, most smoke detectors are hard wired, etc. Check Google maps for the number of stories in a building and to verify there are no commercial tenants.\\n\\n\\n\\n\\n\\n\\n\\n\\n\\n\\n\\n\\n\\n\\n\\n\\n\\n\\n\\nA unit owner has not paid their HOA fee in several months. What do we do?\\n\\nReach out to Attorney Mark Faro and give him a copy of the unit owners statement from Buildium and their contact information. He can be reached via email at mark@markfarolaw.com and by phone at 973.755.5534. Check the tax records for the property by googling ‘Pay property taxes’ and then the town the property is in. ex. Pay Property Taxes Online Hoboken. Next find the address and unit number from the list and look at what the units mailing address is. If it is different from the address of the unit also provide this to Mr. Faro. \\n\\n\\n\\nA new building's former manager is being unresponsive or failing to deliver all necessary documents and the close out check. What do we do? \\n\\nLet the board of the new building know that for a couple hundred dollars Attorney Mark Faro will reach out to the former manager with a demand letter for all necessary items. If the board agrees, reach out to Mark by email at mark@markfarolaw.com or by phone at 973.755.5534.\\n\\n\\n\\nA unit owner has a leaking roof. What do we do?\\n\\nReach out to Done Rite roofing immediately to have them come out to assess the situation. They can be reached via email at doneriteroofingnj53@gmail.com or by phone at 201-708-4338. You can also reach Fernando, our primary contact and service tech at 862.686.0901.\\n\\n\\n\\nSomeone has reached out asking how to access building financials.\\n\\nGo to your Buildium portal and on the bottom left hand side there are two links. One says financials and one says reports. Clicking financials will give you a profit and loss statement where you can change the date range. Choosing reports will allow you to see Balance Sheets and other financial reports.Some buildings have full access for all owners and some only provide access to the board. If this does not work please let the customer know that only the board has access (check on Buildium to make sure they’re not on the board) and let them know we’ll reach out to the board to verify they’re OK with us sending financials.\\n\\n\\n\\nSomeone has reached out to let us know that there is trash or recycling build up at the building. \\n\\nCheck to see who the trash vendor is at the building, and reach out to them to see what the problem is. Lonnie is the internal contact at VPM who handles trash. He can also help.\\n\\n\\n\\nThe insurance company is asking for a replacement cost value confirmation.\\n\\nFrom time to time insurance companies will ask for verification of the replacement cost of a particular building. They may provide a form or they may ask for a letter. If they ask for a letter we have a template of one in the Google Drive. Let the association president know that if we increase the replacement value the premium on the building will increase. They can sign an RCV letter to confirm that the replacement cost has not changed or they can opt to increase the RCV. Fill out and have the president sign the letter according to what they prefer to do.\")]"
      ]
     },
     "execution_count": 7,
     "metadata": {},
     "output_type": "execute_result"
    }
   ],
   "source": [
    "from langchain_community.document_loaders import Docx2txtLoader\n",
    "\n",
    "loader = Docx2txtLoader(\"/home/asmaa/work/BV_Lab/POCs/vessel_property_mang/assets/VPM Problems_Solutions, FAQ, AI Training Tool.docx\")\n",
    "\n",
    "data = loader.load()\n",
    "\n",
    "data"
   ]
  },
  {
   "cell_type": "code",
   "execution_count": 8,
   "metadata": {},
   "outputs": [],
   "source": [
    "from langchain_openai import OpenAIEmbeddings\n",
    "\n",
    "chunks = chunk_docs(data,OpenAIEmbeddings(api_key=os.getenv(\"OPENAI_API_KEY\")))"
   ]
  },
  {
   "cell_type": "code",
   "execution_count": 11,
   "metadata": {},
   "outputs": [
    {
     "name": "stdout",
     "output_type": "stream",
     "text": [
      "Index 'poc-vessel-manag' already exists. Retrieving it...\n"
     ]
    },
    {
     "data": {
      "text/plain": [
       "(<langchain_pinecone.vectorstores.PineconeVectorStore at 0x7f67b0424280>, True)"
      ]
     },
     "execution_count": 11,
     "metadata": {},
     "output_type": "execute_result"
    }
   ],
   "source": [
    "load_to_vectordb(chunks,\"poc-vessel-manag\",OpenAIEmbeddings(api_key=os.getenv(\"OPENAI_API_KEY\"),model=\"text-embedding-3-large\"))"
   ]
  },
  {
   "cell_type": "code",
   "execution_count": null,
   "metadata": {},
   "outputs": [],
   "source": []
  }
 ],
 "metadata": {
  "kernelspec": {
   "display_name": "poc-env",
   "language": "python",
   "name": "python3"
  },
  "language_info": {
   "codemirror_mode": {
    "name": "ipython",
    "version": 3
   },
   "file_extension": ".py",
   "mimetype": "text/x-python",
   "name": "python",
   "nbconvert_exporter": "python",
   "pygments_lexer": "ipython3",
   "version": "3.10.12"
  }
 },
 "nbformat": 4,
 "nbformat_minor": 2
}
